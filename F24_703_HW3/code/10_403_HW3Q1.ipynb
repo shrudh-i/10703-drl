{
  "nbformat": 4,
  "nbformat_minor": 0,
  "metadata": {
    "colab": {
      "provenance": [],
      "include_colab_link": true
    },
    "kernelspec": {
      "name": "python3",
      "display_name": "Python 3"
    }
  },
  "cells": [
    {
      "cell_type": "markdown",
      "metadata": {
        "id": "view-in-github",
        "colab_type": "text"
      },
      "source": [
        "<a href=\"https://colab.research.google.com/github/shrudh-i/10703-drl/blob/main/F24_703_HW3/code/10_403_HW3Q1.ipynb\" target=\"_parent\"><img src=\"https://colab.research.google.com/assets/colab-badge.svg\" alt=\"Open In Colab\"/></a>"
      ]
    },
    {
      "cell_type": "markdown",
      "metadata": {
        "id": "OQdKfCKbYqCO"
      },
      "source": [
        "### Setup: Import Dependencies\n",
        "Run the cell below to import the relevant dependencies."
      ]
    },
    {
      "cell_type": "code",
      "metadata": {
        "id": "FChV28AmVSKu"
      },
      "source": [
        "import numpy as np\n",
        "import matplotlib.pyplot as plt\n",
        "import gym\n",
        "import functools"
      ],
      "execution_count": 33,
      "outputs": []
    },
    {
      "cell_type": "markdown",
      "metadata": {
        "id": "WILXO6JzTaQC"
      },
      "source": [
        "### Part 1: CMA-ES\n",
        "Implement CMA-ES below."
      ]
    },
    {
      "cell_type": "code",
      "metadata": {
        "id": "zEIfLn7KTbse"
      },
      "source": [
        "def cmaes(fn, dim, num_iter=10):\n",
        "  \"\"\"Optimizes a given function using CMA-ES.\n",
        "\n",
        "  Args:\n",
        "    fn: A function that takes as input a vector and outputs a scalar value.\n",
        "    dim: (int) The dimension of the vector that fn expects as input.\n",
        "    num_iter: (int) Number of iterations to run CMA-ES.\n",
        "\n",
        "  Returns:\n",
        "    mu_vec: An array of size [num_iter, dim] storing the value of mu at each\n",
        "      iteration.\n",
        "    best_sample_vec: A list of length [num_iter] storing the function value\n",
        "      for the best sample from each iteration of CMA-ES.\n",
        "    mean_sample_vec: A list of length [num_iter] storing the average function\n",
        "      value across samples from each iteration of CMA-ES.\n",
        "  \"\"\"\n",
        "  # Hyperparameters\n",
        "  sigma = 10\n",
        "  population_size = 100\n",
        "  p_keep = 0.10  # Fraction of population to keep\n",
        "  noise = 0.25  # Noise added to covariance to prevent it from going to 0.\n",
        "\n",
        "  # Initialize the mean and covariance\n",
        "  mu = np.zeros(dim)\n",
        "  cov = sigma**2 * np.eye(dim)\n",
        "\n",
        "  mu_vec = []\n",
        "  best_sample_vec = []\n",
        "  mean_sample_vec = []\n",
        "  # print(sample)\n",
        "  for t in range(num_iter):\n",
        "    # WRITE CODE HERE\n",
        "    mu_vec.append(mu)\n",
        "    # Generate random x\n",
        "    # print(mu.shape)\n",
        "    samples = np.random.multivariate_normal(mu, cov, population_size).squeeze()\n",
        "    # print(sample)\n",
        "\n",
        "    # Calculate the score for each sample of x\n",
        "    scores = fn(samples)\n",
        "    # print(scores)\n",
        "\n",
        "    # Select top k(=pop_size*p_keep) parameters with the highest score\n",
        "    elite_size = int(population_size*p_keep)\n",
        "    top_k = np.argsort(scores)[-elite_size:]\n",
        "\n",
        "    idx = np.argmax(scores)\n",
        "    highest_score = scores[idx]\n",
        "    highest_sample = samples[idx]\n",
        "    best_sample_vec.append(highest_score)\n",
        "\n",
        "    mean_sample_vec.append(np.mean(scores))\n",
        "    # Update the mean and std dev\n",
        "    # print(samples[top_k].shape)\n",
        "    mu = np.mean(samples[top_k], axis=0)\n",
        "    # print(mu.shape)\n",
        "    cov = np.cov(samples[top_k], rowvar=False) + (noise) *np.eye(dim)\n",
        "    # print(cov.shape)\n",
        "\n",
        "\n",
        "  return mu_vec, best_sample_vec, mean_sample_vec"
      ],
      "execution_count": 42,
      "outputs": []
    },
    {
      "cell_type": "markdown",
      "metadata": {
        "id": "4ql_mylUaFEL"
      },
      "source": [
        "In the cell below, we've defined a simply function:\n",
        "$$f(x) = -\\|x - x^*\\|_2^2 \\quad \\text{where} \\quad x^* = [65, 49].$$\n",
        "This function is optimized when $x = x^*$. Run your implementation of CMA-ES on this function, confirming that you get the correct solution."
      ]
    },
    {
      "cell_type": "code",
      "metadata": {
        "id": "yUZ3MSV2VJdP"
      },
      "source": [
        "def test_fn(x):\n",
        "  goal = np.array([65, 49])\n",
        "  return -np.sum((x - goal)**2, axis=1)\n",
        "\n",
        "mu_vec, best_sample_vec, mean_sample_vec = cmaes(test_fn, dim=2, num_iter=100)"
      ],
      "execution_count": 43,
      "outputs": []
    },
    {
      "cell_type": "code",
      "source": [
        "def test_fn(x):\n",
        "  goal = np.array([65, 49])\n",
        "  return -np.sum((x - goal)**2)"
      ],
      "metadata": {
        "id": "PegbTb2qNEbe"
      },
      "execution_count": 44,
      "outputs": []
    },
    {
      "cell_type": "markdown",
      "metadata": {
        "id": "v5tRptWHcvLR"
      },
      "source": [
        "Run the following cell to visualize CMA-ES."
      ]
    },
    {
      "cell_type": "code",
      "metadata": {
        "id": "f6YhcWX6bCWP",
        "colab": {
          "base_uri": "https://localhost:8080/",
          "height": 374
        },
        "outputId": "48cd9df5-5d3c-4606-c9da-5598c9bd3c35"
      },
      "source": [
        "x = np.stack(np.meshgrid(np.linspace(-10, 100, 30), np.linspace(-10, 100, 30)), axis=-1)\n",
        "fn_value = [test_fn(xx) for xx in x.reshape((-1, 2))]\n",
        "fn_value = np.array(fn_value).reshape((30, 30))\n",
        "plt.figure(figsize=(6, 4))\n",
        "plt.contourf(x[:, :, 0], x[:, :, 1], fn_value, levels=10)\n",
        "plt.colorbar()\n",
        "mu_vec = np.array(mu_vec)\n",
        "plt.plot(mu_vec[:, 0], mu_vec[:, 1], 'b-o')\n",
        "plt.plot([mu_vec[0, 0]], [mu_vec[0, 1]], 'r+', ms=20, label='initial value')\n",
        "plt.plot([mu_vec[-1, 0]], [mu_vec[-1, 1]], 'g+', ms=20, label='final value')\n",
        "plt.plot([65], [49], 'kx', ms=20, label='maximum')\n",
        "plt.legend()\n",
        "plt.show()"
      ],
      "execution_count": 45,
      "outputs": [
        {
          "output_type": "display_data",
          "data": {
            "text/plain": [
              "<Figure size 600x400 with 2 Axes>"
            ],
            "image/png": "[encoded data removed]"
          },
          "metadata": {}
        }
      ]
    },
    {
      "cell_type": "markdown",
      "metadata": {
        "id": "8g30ba1xc4LN"
      },
      "source": [
        "**Next**, you will apply CMA-ES to a more complicating: maximizing the expected reward of a RL agent. The policy takes action LEFT with probability:\n",
        "$$\\pi(a = \\text{LEFT} \\mid s) = s \\cdot w + b,$$\n",
        "where $w \\in \\mathbb{R}^4$ and $b \\in \\mathbb{R}$ are parameters that you will optimize with CMA-ES. In the cell below, define a function that takes as input a single vector $x = (w, b)$ and the environment and returns the total (undiscounted) reward from one episode."
      ]
    },
    {
      "cell_type": "code",
      "metadata": {
        "id": "sWq9HYaTVuuF"
      },
      "source": [
        "def _sigmoid(x):\n",
        "  return 1 / (1 + np.exp(-x))\n",
        "\n",
        "def _get_action(s, params):\n",
        "  w = params[:4]\n",
        "  b = params[4]\n",
        "  p_left = _sigmoid(w @ s + b)\n",
        "  a = np.random.choice(2, p=[p_left, 1 - p_left])\n",
        "  return a\n",
        "\n",
        "def rl_fn(params, env):\n",
        "  assert len(params) == 5\n",
        "  ## WRITE CODE HERE\n",
        "  return total_rewards"
      ],
      "execution_count": 46,
      "outputs": []
    },
    {
      "cell_type": "markdown",
      "metadata": {
        "id": "hLis8GoXeKg6"
      },
      "source": [
        "The cell below applies your CMA-ES implementation to the RL objective you've defined in the cell above."
      ]
    },
    {
      "cell_type": "code",
      "metadata": {
        "id": "nuHlGZaEX48n"
      },
      "source": [
        "env = gym.make('CartPole-v0')\n",
        "fn_with_env = functools.partial(rl_fn, env=env)\n",
        "mu_vec, best_sample_vec, mean_sample_vec = cmaes(fn_with_env, dim=5, num_iter=10)"
      ],
      "execution_count": null,
      "outputs": []
    },
    {
      "cell_type": "code",
      "source": [],
      "metadata": {
        "id": "pEoIFTFvvyvk"
      },
      "execution_count": null,
      "outputs": []
    }
  ]
}